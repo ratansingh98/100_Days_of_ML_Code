{
 "cells": [
  {
   "cell_type": "markdown",
   "metadata": {},
   "source": [
    "In this exercise, we will generate an instance of the previously described Inception model, provided by the keras application library.\n",
    "First of all, we will import all the needed libraries, including the keras model handling, the image preprocessing one, the Gradient Descent used to optimize the variables, and several Inception utilities.\n",
    "Additionally, we will use the OpenCV libraries to adjust tne new input images, and the common Numpy and matplotlib libraries."
   ]
  },
  {
   "cell_type": "code",
   "execution_count": 1,
   "metadata": {},
   "outputs": [
    {
     "name": "stderr",
     "output_type": "stream",
     "text": [
      "Using TensorFlow backend.\n"
     ]
    },
    {
     "ename": "ModuleNotFoundError",
     "evalue": "No module named 'cv2'",
     "output_type": "error",
     "traceback": [
      "\u001b[0;31m---------------------------------------------------------------------------\u001b[0m",
      "\u001b[0;31mModuleNotFoundError\u001b[0m                       Traceback (most recent call last)",
      "\u001b[0;32m<ipython-input-1-75256105d34e>\u001b[0m in \u001b[0;36m<module>\u001b[0;34m()\u001b[0m\n\u001b[1;32m      6\u001b[0m \u001b[0;32mimport\u001b[0m \u001b[0mmatplotlib\u001b[0m\u001b[0;34m.\u001b[0m\u001b[0mpyplot\u001b[0m \u001b[0;32mas\u001b[0m \u001b[0mplt\u001b[0m\u001b[0;34m\u001b[0m\u001b[0m\n\u001b[1;32m      7\u001b[0m \u001b[0;32mimport\u001b[0m \u001b[0mnumpy\u001b[0m \u001b[0;32mas\u001b[0m \u001b[0mnp\u001b[0m\u001b[0;34m\u001b[0m\u001b[0m\n\u001b[0;32m----> 8\u001b[0;31m \u001b[0;32mimport\u001b[0m \u001b[0mcv2\u001b[0m\u001b[0;34m\u001b[0m\u001b[0m\n\u001b[0m",
      "\u001b[0;31mModuleNotFoundError\u001b[0m: No module named 'cv2'"
     ]
    }
   ],
   "source": [
    "from keras.models import Model\n",
    "from keras.preprocessing import image\n",
    "from keras.optimizers import SGD\n",
    "from keras.applications.inception_v3 import InceptionV3, decode_predictions, preprocess_input\n",
    "\n",
    "import matplotlib.pyplot as plt\n",
    "import numpy as np\n",
    "import cv2"
   ]
  },
  {
   "cell_type": "markdown",
   "metadata": {},
   "source": [
    "Keras makes really simple the loading of a model, you just have to invoque a new instance of the InceptionV3 class, and then we will assign a determined optimizer based on Stocastic Gradient Descent, and the categorical crossentropy, for the loss, which is very well suited for image classification problems."
   ]
  },
  {
   "cell_type": "code",
   "execution_count": null,
   "metadata": {},
   "outputs": [],
   "source": [
    "model=InceptionV3()\n",
    "model.compile(optimizer=SGD(), loss='categorical_crossentropy')"
   ]
  },
  {
   "cell_type": "markdown",
   "metadata": {},
   "source": [
    "Now that the model is loaded into memory, it's time to load and adjust the  photo using the cv library, and then we call the preprocess input of the keras application, which will normalize the values"
   ]
  },
  {
   "cell_type": "code",
   "execution_count": null,
   "metadata": {},
   "outputs": [],
   "source": [
    "# resize into VGG16 trained images' format\n",
    "im = cv2.resize(cv2.imread('blue_jay.jpg'), (299, 299))\n",
    "im = np.expand_dims(im, axis=0)\n",
    "im = im /255.\n",
    "im = im - 0.5\n",
    "im =  im * 2\n",
    "plt.figure (figsize=(10,10))\n",
    "plt.imshow(im[0], cmap=plt.get_cmap('binary_r'))\n",
    "plt.savefig(\"Multilayer convolutional.jpg\")\n",
    "plt.show()"
   ]
  },
  {
   "cell_type": "markdown",
   "metadata": {},
   "source": [
    "Now we will invoque the predict method of the model, which will show the results of the last layer of the neural nttwork, an array of probabilities for each one of the categories. The decode_predictions method reads a dictionaries with all the categories number as index, and the category name as the value, and so it informs the name of the detected item classification, instead of the number"
   ]
  },
  {
   "cell_type": "code",
   "execution_count": null,
   "metadata": {},
   "outputs": [],
   "source": [
    "out = model.predict(im)\n",
    "print('Predicted:', decode_predictions(out, top=3)[0])\n",
    "print (np.argmax(out))"
   ]
  }
 ],
 "metadata": {
  "kernelspec": {
   "display_name": "Python 3",
   "language": "python",
   "name": "python3"
  },
  "language_info": {
   "codemirror_mode": {
    "name": "ipython",
    "version": 3
   },
   "file_extension": ".py",
   "mimetype": "text/x-python",
   "name": "python",
   "nbconvert_exporter": "python",
   "pygments_lexer": "ipython3",
   "version": "3.6.2"
  }
 },
 "nbformat": 4,
 "nbformat_minor": 2
}
